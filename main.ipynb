{
 "cells": [
  {
   "cell_type": "markdown",
   "metadata": {},
   "source": [
    "# Econometrics 2 - Assignment 2\n",
    "## Imports"
   ]
  },
  {
   "cell_type": "code",
   "execution_count": 105,
   "metadata": {},
   "outputs": [
    {
     "name": "stdout",
     "output_type": "stream",
     "text": [
      "Requirement already satisfied: numpy in /Users/micha/opt/anaconda3/lib/python3.8/site-packages (1.21.2)\n",
      "Requirement already satisfied: pandas in /Users/micha/opt/anaconda3/lib/python3.8/site-packages (1.3.4)\n",
      "Requirement already satisfied: scipy in /Users/micha/opt/anaconda3/lib/python3.8/site-packages (1.7.1)\n",
      "Requirement already satisfied: statsmodels in /Users/micha/opt/anaconda3/lib/python3.8/site-packages (0.13.0)\n",
      "Requirement already satisfied: python-dateutil>=2.7.3 in /Users/micha/opt/anaconda3/lib/python3.8/site-packages (from pandas) (2.8.2)\n",
      "Requirement already satisfied: pytz>=2017.3 in /Users/micha/opt/anaconda3/lib/python3.8/site-packages (from pandas) (2021.3)\n",
      "Requirement already satisfied: patsy>=0.5.2 in /Users/micha/opt/anaconda3/lib/python3.8/site-packages (from statsmodels) (0.5.2)\n",
      "Requirement already satisfied: six in /Users/micha/opt/anaconda3/lib/python3.8/site-packages (from patsy>=0.5.2->statsmodels) (1.16.0)\n"
     ]
    }
   ],
   "source": [
    "!pip install numpy pandas scipy statsmodels"
   ]
  },
  {
   "cell_type": "code",
   "execution_count": 106,
   "metadata": {},
   "outputs": [],
   "source": [
    "import pandas as pd\n",
    "import numpy as np\n",
    "import scipy.stats as sts\n",
    "import statsmodels.api as stm\n",
    "from statsmodels.sandbox.regression.gmm import IV2SLS"
   ]
  },
  {
   "cell_type": "markdown",
   "metadata": {},
   "source": [
    "## Import data"
   ]
  },
  {
   "cell_type": "code",
   "execution_count": 107,
   "metadata": {},
   "outputs": [
    {
     "data": {
      "text/html": [
       "<div>\n",
       "<style scoped>\n",
       "    .dataframe tbody tr th:only-of-type {\n",
       "        vertical-align: middle;\n",
       "    }\n",
       "\n",
       "    .dataframe tbody tr th {\n",
       "        vertical-align: top;\n",
       "    }\n",
       "\n",
       "    .dataframe thead th {\n",
       "        text-align: right;\n",
       "    }\n",
       "</style>\n",
       "<table border=\"1\" class=\"dataframe\">\n",
       "  <thead>\n",
       "    <tr style=\"text-align: right;\">\n",
       "      <th></th>\n",
       "      <th>Y</th>\n",
       "      <th>X1</th>\n",
       "      <th>Z1</th>\n",
       "    </tr>\n",
       "  </thead>\n",
       "  <tbody>\n",
       "    <tr>\n",
       "      <th>0</th>\n",
       "      <td>-0.408071</td>\n",
       "      <td>-3.578101</td>\n",
       "      <td>0</td>\n",
       "    </tr>\n",
       "    <tr>\n",
       "      <th>1</th>\n",
       "      <td>5.011391</td>\n",
       "      <td>3.707990</td>\n",
       "      <td>0</td>\n",
       "    </tr>\n",
       "    <tr>\n",
       "      <th>2</th>\n",
       "      <td>6.471941</td>\n",
       "      <td>5.544009</td>\n",
       "      <td>0</td>\n",
       "    </tr>\n",
       "    <tr>\n",
       "      <th>3</th>\n",
       "      <td>-0.667804</td>\n",
       "      <td>-1.256486</td>\n",
       "      <td>0</td>\n",
       "    </tr>\n",
       "    <tr>\n",
       "      <th>4</th>\n",
       "      <td>2.464373</td>\n",
       "      <td>0.137812</td>\n",
       "      <td>0</td>\n",
       "    </tr>\n",
       "    <tr>\n",
       "      <th>...</th>\n",
       "      <td>...</td>\n",
       "      <td>...</td>\n",
       "      <td>...</td>\n",
       "    </tr>\n",
       "    <tr>\n",
       "      <th>1495</th>\n",
       "      <td>0.281510</td>\n",
       "      <td>3.211403</td>\n",
       "      <td>1</td>\n",
       "    </tr>\n",
       "    <tr>\n",
       "      <th>1496</th>\n",
       "      <td>0.599403</td>\n",
       "      <td>0.370344</td>\n",
       "      <td>1</td>\n",
       "    </tr>\n",
       "    <tr>\n",
       "      <th>1497</th>\n",
       "      <td>-0.128823</td>\n",
       "      <td>-1.363617</td>\n",
       "      <td>1</td>\n",
       "    </tr>\n",
       "    <tr>\n",
       "      <th>1498</th>\n",
       "      <td>5.647563</td>\n",
       "      <td>7.930720</td>\n",
       "      <td>1</td>\n",
       "    </tr>\n",
       "    <tr>\n",
       "      <th>1499</th>\n",
       "      <td>3.032362</td>\n",
       "      <td>1.863096</td>\n",
       "      <td>1</td>\n",
       "    </tr>\n",
       "  </tbody>\n",
       "</table>\n",
       "<p>1500 rows × 3 columns</p>\n",
       "</div>"
      ],
      "text/plain": [
       "             Y        X1  Z1\n",
       "0    -0.408071 -3.578101   0\n",
       "1     5.011391  3.707990   0\n",
       "2     6.471941  5.544009   0\n",
       "3    -0.667804 -1.256486   0\n",
       "4     2.464373  0.137812   0\n",
       "...        ...       ...  ..\n",
       "1495  0.281510  3.211403   1\n",
       "1496  0.599403  0.370344   1\n",
       "1497 -0.128823 -1.363617   1\n",
       "1498  5.647563  7.930720   1\n",
       "1499  3.032362  1.863096   1\n",
       "\n",
       "[1500 rows x 3 columns]"
      ]
     },
     "execution_count": 107,
     "metadata": {},
     "output_type": "execute_result"
    }
   ],
   "source": [
    "df = pd.read_excel(\"IV_01.xlsx\")\n",
    "df"
   ]
  },
  {
   "cell_type": "markdown",
   "metadata": {},
   "source": [
    "## a\n",
    "Geen code."
   ]
  },
  {
   "cell_type": "markdown",
   "metadata": {},
   "source": [
    "## b"
   ]
  },
  {
   "cell_type": "code",
   "execution_count": 108,
   "metadata": {},
   "outputs": [
    {
     "data": {
      "text/html": [
       "<table class=\"simpletable\">\n",
       "<tr>\n",
       "        <td>Model:</td>               <td>OLS</td>         <td>Adj. R-squared:</td>     <td>0.102</td>  \n",
       "</tr>\n",
       "<tr>\n",
       "  <td>Dependent Variable:</td>        <td>X1</td>               <td>AIC:</td>         <td>7720.3166</td>\n",
       "</tr>\n",
       "<tr>\n",
       "         <td>Date:</td>        <td>2022-05-18 15:35</td>        <td>BIC:</td>         <td>7730.9431</td>\n",
       "</tr>\n",
       "<tr>\n",
       "   <td>No. Observations:</td>        <td>1500</td>         <td>Log-Likelihood:</td>    <td>-3858.2</td> \n",
       "</tr>\n",
       "<tr>\n",
       "       <td>Df Model:</td>              <td>1</td>           <td>F-statistic:</td>       <td>170.7</td>  \n",
       "</tr>\n",
       "<tr>\n",
       "     <td>Df Residuals:</td>          <td>1498</td>       <td>Prob (F-statistic):</td> <td>5.07e-37</td> \n",
       "</tr>\n",
       "<tr>\n",
       "      <td>R-squared:</td>            <td>0.102</td>            <td>Scale:</td>         <td>10.051</td>  \n",
       "</tr>\n",
       "</table>\n",
       "<table class=\"simpletable\">\n",
       "<tr>\n",
       "    <td></td>     <th>Coef.</th>  <th>Std.Err.</th>    <th>t</th>     <th>P>|t|</th> <th>[0.025</th>  <th>0.975]</th> \n",
       "</tr>\n",
       "<tr>\n",
       "  <th>const</th> <td>-1.0208</td>  <td>0.1158</td>  <td>-8.8181</td> <td>0.0000</td> <td>-1.2479</td> <td>-0.7937</td>\n",
       "</tr>\n",
       "<tr>\n",
       "  <th>Z1</th>    <td>2.1389</td>   <td>0.1637</td>  <td>13.0650</td> <td>0.0000</td> <td>1.8178</td>  <td>2.4601</td> \n",
       "</tr>\n",
       "</table>\n",
       "<table class=\"simpletable\">\n",
       "<tr>\n",
       "     <td>Omnibus:</td>    <td>1.076</td>  <td>Durbin-Watson:</td>   <td>2.089</td>\n",
       "</tr>\n",
       "<tr>\n",
       "  <td>Prob(Omnibus):</td> <td>0.584</td> <td>Jarque-Bera (JB):</td> <td>1.067</td>\n",
       "</tr>\n",
       "<tr>\n",
       "       <td>Skew:</td>     <td>0.065</td>     <td>Prob(JB):</td>     <td>0.587</td>\n",
       "</tr>\n",
       "<tr>\n",
       "     <td>Kurtosis:</td>   <td>2.995</td>  <td>Condition No.:</td>     <td>3</td>  \n",
       "</tr>\n",
       "</table>"
      ],
      "text/plain": [
       "<class 'statsmodels.iolib.summary2.Summary'>\n",
       "\"\"\"\n",
       "                 Results: Ordinary least squares\n",
       "==================================================================\n",
       "Model:              OLS              Adj. R-squared:     0.102    \n",
       "Dependent Variable: X1               AIC:                7720.3166\n",
       "Date:               2022-05-18 15:35 BIC:                7730.9431\n",
       "No. Observations:   1500             Log-Likelihood:     -3858.2  \n",
       "Df Model:           1                F-statistic:        170.7    \n",
       "Df Residuals:       1498             Prob (F-statistic): 5.07e-37 \n",
       "R-squared:          0.102            Scale:              10.051   \n",
       "--------------------------------------------------------------------\n",
       "            Coef.    Std.Err.      t      P>|t|     [0.025    0.975]\n",
       "--------------------------------------------------------------------\n",
       "const      -1.0208     0.1158   -8.8181   0.0000   -1.2479   -0.7937\n",
       "Z1          2.1389     0.1637   13.0650   0.0000    1.8178    2.4601\n",
       "------------------------------------------------------------------\n",
       "Omnibus:               1.076        Durbin-Watson:           2.089\n",
       "Prob(Omnibus):         0.584        Jarque-Bera (JB):        1.067\n",
       "Skew:                  0.065        Prob(JB):                0.587\n",
       "Kurtosis:              2.995        Condition No.:           3    \n",
       "==================================================================\n",
       "\n",
       "\"\"\""
      ]
     },
     "execution_count": 108,
     "metadata": {},
     "output_type": "execute_result"
    }
   ],
   "source": [
    "x_reg = stm.OLS(df[\"X1\"], stm.add_constant(df[\"Z1\"])).fit()\n",
    "x_reg.summary2()"
   ]
  },
  {
   "cell_type": "markdown",
   "metadata": {},
   "source": [
    "Thus we get a t-stat of 13.065 > 3.16, thus is relevant."
   ]
  },
  {
   "cell_type": "markdown",
   "metadata": {},
   "source": [
    "## c"
   ]
  },
  {
   "cell_type": "code",
   "execution_count": 109,
   "metadata": {},
   "outputs": [
    {
     "data": {
      "text/plain": [
       "0      -1.020819\n",
       "1      -1.020819\n",
       "2      -1.020819\n",
       "3      -1.020819\n",
       "4      -1.020819\n",
       "          ...   \n",
       "1495    1.118114\n",
       "1496    1.118114\n",
       "1497    1.118114\n",
       "1498    1.118114\n",
       "1499    1.118114\n",
       "Length: 1500, dtype: float64"
      ]
     },
     "execution_count": 109,
     "metadata": {},
     "output_type": "execute_result"
    }
   ],
   "source": [
    "x_hat = x_reg.predict(stm.add_constant(df[\"Z1\"]))\n",
    "x_hat"
   ]
  },
  {
   "cell_type": "code",
   "execution_count": 110,
   "metadata": {},
   "outputs": [
    {
     "data": {
      "text/plain": [
       "0      -2.557281\n",
       "1       4.728809\n",
       "2       6.564828\n",
       "3      -0.235666\n",
       "4       1.158631\n",
       "          ...   \n",
       "1495    2.093289\n",
       "1496   -0.747770\n",
       "1497   -2.481731\n",
       "1498    6.812606\n",
       "1499    0.744983\n",
       "Length: 1500, dtype: float64"
      ]
     },
     "execution_count": 110,
     "metadata": {},
     "output_type": "execute_result"
    }
   ],
   "source": [
    "v_hat = df[\"X1\"] - x_hat\n",
    "df_v_hat = df.copy()\n",
    "df_v_hat.loc[:, \"V_hat\"] = v_hat\n",
    "v_hat"
   ]
  },
  {
   "cell_type": "code",
   "execution_count": 111,
   "metadata": {},
   "outputs": [
    {
     "data": {
      "text/html": [
       "<table class=\"simpletable\">\n",
       "<tr>\n",
       "        <td>Model:</td>               <td>OLS</td>         <td>Adj. R-squared:</td>     <td>0.832</td>  \n",
       "</tr>\n",
       "<tr>\n",
       "  <td>Dependent Variable:</td>         <td>Y</td>               <td>AIC:</td>         <td>5225.2405</td>\n",
       "</tr>\n",
       "<tr>\n",
       "         <td>Date:</td>        <td>2022-05-18 15:35</td>        <td>BIC:</td>         <td>5241.1801</td>\n",
       "</tr>\n",
       "<tr>\n",
       "   <td>No. Observations:</td>        <td>1500</td>         <td>Log-Likelihood:</td>    <td>-2609.6</td> \n",
       "</tr>\n",
       "<tr>\n",
       "       <td>Df Model:</td>              <td>2</td>           <td>F-statistic:</td>       <td>3705.</td>  \n",
       "</tr>\n",
       "<tr>\n",
       "     <td>Df Residuals:</td>          <td>1497</td>       <td>Prob (F-statistic):</td>   <td>0.00</td>   \n",
       "</tr>\n",
       "<tr>\n",
       "      <td>R-squared:</td>            <td>0.832</td>            <td>Scale:</td>         <td>1.9034</td>  \n",
       "</tr>\n",
       "</table>\n",
       "<table class=\"simpletable\">\n",
       "<tr>\n",
       "    <td></td>     <th>Coef.</th>  <th>Std.Err.</th>     <th>t</th>     <th>P>|t|</th> <th>[0.025</th>  <th>0.975]</th> \n",
       "</tr>\n",
       "<tr>\n",
       "  <th>const</th> <td>0.1142</td>   <td>0.0357</td>   <td>3.2024</td>  <td>0.0014</td> <td>0.0442</td>  <td>0.1841</td> \n",
       "</tr>\n",
       "<tr>\n",
       "  <th>X1</th>    <td>-0.9294</td>  <td>0.0333</td>  <td>-27.9028</td> <td>0.0000</td> <td>-0.9947</td> <td>-0.8640</td>\n",
       "</tr>\n",
       "<tr>\n",
       "  <th>V_hat</th> <td>1.8450</td>   <td>0.0352</td>   <td>52.4824</td> <td>0.0000</td> <td>1.7760</td>  <td>1.9139</td> \n",
       "</tr>\n",
       "</table>\n",
       "<table class=\"simpletable\">\n",
       "<tr>\n",
       "     <td>Omnibus:</td>     <td>4.686</td>  <td>Durbin-Watson:</td>   <td>1.988</td>\n",
       "</tr>\n",
       "<tr>\n",
       "  <td>Prob(Omnibus):</td>  <td>0.096</td> <td>Jarque-Bera (JB):</td> <td>3.955</td>\n",
       "</tr>\n",
       "<tr>\n",
       "       <td>Skew:</td>     <td>-0.037</td>     <td>Prob(JB):</td>     <td>0.138</td>\n",
       "</tr>\n",
       "<tr>\n",
       "     <td>Kurtosis:</td>    <td>2.759</td>  <td>Condition No.:</td>     <td>6</td>  \n",
       "</tr>\n",
       "</table>"
      ],
      "text/plain": [
       "<class 'statsmodels.iolib.summary2.Summary'>\n",
       "\"\"\"\n",
       "                 Results: Ordinary least squares\n",
       "==================================================================\n",
       "Model:              OLS              Adj. R-squared:     0.832    \n",
       "Dependent Variable: Y                AIC:                5225.2405\n",
       "Date:               2022-05-18 15:35 BIC:                5241.1801\n",
       "No. Observations:   1500             Log-Likelihood:     -2609.6  \n",
       "Df Model:           2                F-statistic:        3705.    \n",
       "Df Residuals:       1497             Prob (F-statistic): 0.00     \n",
       "R-squared:          0.832            Scale:              1.9034   \n",
       "--------------------------------------------------------------------\n",
       "           Coef.    Std.Err.      t       P>|t|     [0.025    0.975]\n",
       "--------------------------------------------------------------------\n",
       "const      0.1142     0.0357     3.2024   0.0014    0.0442    0.1841\n",
       "X1        -0.9294     0.0333   -27.9028   0.0000   -0.9947   -0.8640\n",
       "V_hat      1.8450     0.0352    52.4824   0.0000    1.7760    1.9139\n",
       "------------------------------------------------------------------\n",
       "Omnibus:              4.686         Durbin-Watson:           1.988\n",
       "Prob(Omnibus):        0.096         Jarque-Bera (JB):        3.955\n",
       "Skew:                 -0.037        Prob(JB):                0.138\n",
       "Kurtosis:             2.759         Condition No.:           6    \n",
       "==================================================================\n",
       "\n",
       "\"\"\""
      ]
     },
     "execution_count": 111,
     "metadata": {},
     "output_type": "execute_result"
    }
   ],
   "source": [
    "y_reg = stm.OLS(df[\"Y\"], stm.add_constant(df_v_hat[[\"X1\", \"V_hat\"]])).fit()\n",
    "y_reg.summary2()"
   ]
  },
  {
   "cell_type": "markdown",
   "metadata": {},
   "source": [
    "Thus we get t-stat = 52.48 > $\\sqrt{10}$, thus we have endogeneity."
   ]
  },
  {
   "cell_type": "markdown",
   "metadata": {},
   "source": [
    "## d\n",
    "Geen code."
   ]
  },
  {
   "cell_type": "markdown",
   "metadata": {},
   "source": [
    "## e\n",
    "### IV:"
   ]
  },
  {
   "cell_type": "code",
   "execution_count": 112,
   "metadata": {},
   "outputs": [
    {
     "data": {
      "text/plain": [
       "'Beta1,IV = -0.9293842177390383'"
      ]
     },
     "execution_count": 112,
     "metadata": {},
     "output_type": "execute_result"
    }
   ],
   "source": [
    "cov_z1_y = df[\"Z1\"].cov(df[\"Y\"])\n",
    "cov_z1_x1 = df[\"Z1\"].cov(df[\"X1\"])\n",
    "beta_1_IV = cov_z1_y/cov_z1_x1\n",
    "f\"Beta1,IV = {beta_1_IV}\""
   ]
  },
  {
   "cell_type": "markdown",
   "metadata": {},
   "source": [
    "Je kan ook zo berekenen."
   ]
  },
  {
   "cell_type": "code",
   "execution_count": 113,
   "metadata": {},
   "outputs": [
    {
     "data": {
      "text/plain": [
       "'Beta_1,IV = -0.9293842177390383'"
      ]
     },
     "execution_count": 113,
     "metadata": {},
     "output_type": "execute_result"
    }
   ],
   "source": [
    "f'Beta_1,IV = {((df[\"Z1\"] - df[\"Z1\"].mean()) * (df[\"Y\"] - df[\"Y\"].mean())).sum()/((df[\"Z1\"] - df[\"Z1\"].mean()) * (df[\"X1\"] - df[\"X1\"].mean())).sum()}'"
   ]
  },
  {
   "cell_type": "markdown",
   "metadata": {},
   "source": [
    "### 2SLS:"
   ]
  },
  {
   "cell_type": "code",
   "execution_count": 114,
   "metadata": {},
   "outputs": [
    {
     "data": {
      "text/html": [
       "<table class=\"simpletable\">\n",
       "<tr>\n",
       "        <td>Model:</td>             <td>IV2SLS</td>          <td>R-squared:</td>       <td>-2.191</td> \n",
       "</tr>\n",
       "<tr>\n",
       "  <td>Dependent Variable:</td>         <td>Y</td>          <td>Adj. R-squared:</td>    <td>-2.193</td> \n",
       "</tr>\n",
       "<tr>\n",
       "         <td>Date:</td>        <td>2022-05-18 15:35</td>    <td>F-statistic:</td>       <td>41.03</td> \n",
       "</tr>\n",
       "<tr>\n",
       "   <td>No. Observations:</td>        <td>1500</td>       <td>Prob (F-statistic):</td> <td>2.00e-10</td>\n",
       "</tr>\n",
       "<tr>\n",
       "       <td>Df Model:</td>              <td>1</td>              <td>Scale:</td>         <td>36.115</td> \n",
       "</tr>\n",
       "<tr>\n",
       "     <td>Df Residuals:</td>          <td>1498</td>                <td></td>               <td></td>    \n",
       "</tr>\n",
       "</table>\n",
       "<table class=\"simpletable\">\n",
       "<tr>\n",
       "    <td></td>     <th>Coef.</th>  <th>Std.Err.</th>    <th>t</th>     <th>P>|t|</th> <th>[0.025</th>  <th>0.975]</th> \n",
       "</tr>\n",
       "<tr>\n",
       "  <th>const</th> <td>0.1142</td>   <td>0.1553</td>  <td>0.7352</td>  <td>0.4623</td> <td>-0.1905</td> <td>0.4189</td> \n",
       "</tr>\n",
       "<tr>\n",
       "  <th>X1</th>    <td>-0.9294</td>  <td>0.1451</td>  <td>-6.4056</td> <td>0.0000</td> <td>-1.2140</td> <td>-0.6448</td>\n",
       "</tr>\n",
       "</table>\n",
       "<table class=\"simpletable\">\n",
       "<tr>\n",
       "     <td>Omnibus:</td>    <td>1.603</td>  <td>Durbin-Watson:</td>   <td>2.068</td>\n",
       "</tr>\n",
       "<tr>\n",
       "  <td>Prob(Omnibus):</td> <td>0.449</td> <td>Jarque-Bera (JB):</td> <td>1.627</td>\n",
       "</tr>\n",
       "<tr>\n",
       "       <td>Skew:</td>     <td>0.079</td>     <td>Prob(JB):</td>     <td>0.443</td>\n",
       "</tr>\n",
       "<tr>\n",
       "     <td>Kurtosis:</td>   <td>2.970</td>  <td>Condition No.:</td>     <td>3</td>  \n",
       "</tr>\n",
       "</table>"
      ],
      "text/plain": [
       "<class 'statsmodels.iolib.summary2.Summary'>\n",
       "\"\"\"\n",
       "                         Results: IV2SLS\n",
       "=================================================================\n",
       "Model:              IV2SLS           R-squared:          -2.191  \n",
       "Dependent Variable: Y                Adj. R-squared:     -2.193  \n",
       "Date:               2022-05-18 15:35 F-statistic:        41.03   \n",
       "No. Observations:   1500             Prob (F-statistic): 2.00e-10\n",
       "Df Model:           1                Scale:              36.115  \n",
       "Df Residuals:       1498                                         \n",
       "-------------------------------------------------------------------\n",
       "           Coef.    Std.Err.      t      P>|t|     [0.025    0.975]\n",
       "-------------------------------------------------------------------\n",
       "const      0.1142     0.1553    0.7352   0.4623   -0.1905    0.4189\n",
       "X1        -0.9294     0.1451   -6.4056   0.0000   -1.2140   -0.6448\n",
       "-----------------------------------------------------------------\n",
       "Omnibus:              1.603        Durbin-Watson:           2.068\n",
       "Prob(Omnibus):        0.449        Jarque-Bera (JB):        1.627\n",
       "Skew:                 0.079        Prob(JB):                0.443\n",
       "Kurtosis:             2.970        Condition No.:           3    \n",
       "=================================================================\n",
       "\n",
       "\"\"\""
      ]
     },
     "execution_count": 114,
     "metadata": {},
     "output_type": "execute_result"
    }
   ],
   "source": [
    "IV2SLS(df[\"Y\"], stm.add_constant(df[\"X1\"]), stm.add_constant(df[\"Z1\"])).fit().summary2()"
   ]
  },
  {
   "cell_type": "code",
   "execution_count": 115,
   "metadata": {},
   "outputs": [
    {
     "data": {
      "text/html": [
       "<table class=\"simpletable\">\n",
       "<caption>OLS Regression Results</caption>\n",
       "<tr>\n",
       "  <th>Dep. Variable:</th>            <td>Y</td>        <th>  R-squared:         </th> <td>   0.087</td>\n",
       "</tr>\n",
       "<tr>\n",
       "  <th>Model:</th>                   <td>OLS</td>       <th>  Adj. R-squared:    </th> <td>   0.087</td>\n",
       "</tr>\n",
       "<tr>\n",
       "  <th>Method:</th>             <td>Least Squares</td>  <th>  F-statistic:       </th> <td>   143.5</td>\n",
       "</tr>\n",
       "<tr>\n",
       "  <th>Date:</th>             <td>Wed, 18 May 2022</td> <th>  Prob (F-statistic):</th> <td>1.22e-31</td>\n",
       "</tr>\n",
       "<tr>\n",
       "  <th>Time:</th>                 <td>15:35:56</td>     <th>  Log-Likelihood:    </th> <td> -3878.6</td>\n",
       "</tr>\n",
       "<tr>\n",
       "  <th>No. Observations:</th>      <td>  1500</td>      <th>  AIC:               </th> <td>   7761.</td>\n",
       "</tr>\n",
       "<tr>\n",
       "  <th>Df Residuals:</th>          <td>  1498</td>      <th>  BIC:               </th> <td>   7772.</td>\n",
       "</tr>\n",
       "<tr>\n",
       "  <th>Df Model:</th>              <td>     1</td>      <th>                     </th>     <td> </td>   \n",
       "</tr>\n",
       "<tr>\n",
       "  <th>Covariance Type:</th>      <td>nonrobust</td>    <th>                     </th>     <td> </td>   \n",
       "</tr>\n",
       "</table>\n",
       "<table class=\"simpletable\">\n",
       "<tr>\n",
       "    <td></td>       <th>coef</th>     <th>std err</th>      <th>t</th>      <th>P>|t|</th>  <th>[0.025</th>    <th>0.975]</th>  \n",
       "</tr>\n",
       "<tr>\n",
       "  <th>const</th> <td>    0.1142</td> <td>    0.083</td> <td>    1.375</td> <td> 0.169</td> <td>   -0.049</td> <td>    0.277</td>\n",
       "</tr>\n",
       "<tr>\n",
       "  <th>0</th>     <td>   -0.9294</td> <td>    0.078</td> <td>  -11.978</td> <td> 0.000</td> <td>   -1.082</td> <td>   -0.777</td>\n",
       "</tr>\n",
       "</table>\n",
       "<table class=\"simpletable\">\n",
       "<tr>\n",
       "  <th>Omnibus:</th>       <td> 1.558</td> <th>  Durbin-Watson:     </th> <td>   2.044</td>\n",
       "</tr>\n",
       "<tr>\n",
       "  <th>Prob(Omnibus):</th> <td> 0.459</td> <th>  Jarque-Bera (JB):  </th> <td>   1.614</td>\n",
       "</tr>\n",
       "<tr>\n",
       "  <th>Skew:</th>          <td> 0.075</td> <th>  Prob(JB):          </th> <td>   0.446</td>\n",
       "</tr>\n",
       "<tr>\n",
       "  <th>Kurtosis:</th>      <td> 2.941</td> <th>  Cond. No.          </th> <td>    1.09</td>\n",
       "</tr>\n",
       "</table><br/><br/>Notes:<br/>[1] Standard Errors assume that the covariance matrix of the errors is correctly specified."
      ],
      "text/plain": [
       "<class 'statsmodels.iolib.summary.Summary'>\n",
       "\"\"\"\n",
       "                            OLS Regression Results                            \n",
       "==============================================================================\n",
       "Dep. Variable:                      Y   R-squared:                       0.087\n",
       "Model:                            OLS   Adj. R-squared:                  0.087\n",
       "Method:                 Least Squares   F-statistic:                     143.5\n",
       "Date:                Wed, 18 May 2022   Prob (F-statistic):           1.22e-31\n",
       "Time:                        15:35:56   Log-Likelihood:                -3878.6\n",
       "No. Observations:                1500   AIC:                             7761.\n",
       "Df Residuals:                    1498   BIC:                             7772.\n",
       "Df Model:                           1                                         \n",
       "Covariance Type:            nonrobust                                         \n",
       "==============================================================================\n",
       "                 coef    std err          t      P>|t|      [0.025      0.975]\n",
       "------------------------------------------------------------------------------\n",
       "const          0.1142      0.083      1.375      0.169      -0.049       0.277\n",
       "0             -0.9294      0.078    -11.978      0.000      -1.082      -0.777\n",
       "==============================================================================\n",
       "Omnibus:                        1.558   Durbin-Watson:                   2.044\n",
       "Prob(Omnibus):                  0.459   Jarque-Bera (JB):                1.614\n",
       "Skew:                           0.075   Prob(JB):                        0.446\n",
       "Kurtosis:                       2.941   Cond. No.                         1.09\n",
       "==============================================================================\n",
       "\n",
       "Notes:\n",
       "[1] Standard Errors assume that the covariance matrix of the errors is correctly specified.\n",
       "\"\"\""
      ]
     },
     "execution_count": 115,
     "metadata": {},
     "output_type": "execute_result"
    }
   ],
   "source": [
    "stm.OLS(df[\"Y\"], stm.add_constant(x_hat)).fit().summary()"
   ]
  },
  {
   "cell_type": "markdown",
   "metadata": {},
   "source": [
    "Beide geeft dezelfde resultaten, maar is net een andere manier van berekenen (al komt op hetzelfde neer)."
   ]
  },
  {
   "cell_type": "markdown",
   "metadata": {},
   "source": [
    "## f"
   ]
  },
  {
   "cell_type": "markdown",
   "metadata": {},
   "source": [
    "### OLS:"
   ]
  },
  {
   "cell_type": "code",
   "execution_count": 116,
   "metadata": {},
   "outputs": [
    {
     "data": {
      "text/html": [
       "<table class=\"simpletable\">\n",
       "<caption>OLS Regression Results</caption>\n",
       "<tr>\n",
       "  <th>Dep. Variable:</th>            <td>Y</td>        <th>  R-squared:         </th> <td>   0.523</td> \n",
       "</tr>\n",
       "<tr>\n",
       "  <th>Model:</th>                   <td>OLS</td>       <th>  Adj. R-squared:    </th> <td>   0.522</td> \n",
       "</tr>\n",
       "<tr>\n",
       "  <th>Method:</th>             <td>Least Squares</td>  <th>  F-statistic:       </th> <td>   1640.</td> \n",
       "</tr>\n",
       "<tr>\n",
       "  <th>Date:</th>             <td>Wed, 18 May 2022</td> <th>  Prob (F-statistic):</th> <td>7.46e-243</td>\n",
       "</tr>\n",
       "<tr>\n",
       "  <th>Time:</th>                 <td>15:35:56</td>     <th>  Log-Likelihood:    </th> <td> -3392.5</td> \n",
       "</tr>\n",
       "<tr>\n",
       "  <th>No. Observations:</th>      <td>  1500</td>      <th>  AIC:               </th> <td>   6789.</td> \n",
       "</tr>\n",
       "<tr>\n",
       "  <th>Df Residuals:</th>          <td>  1498</td>      <th>  BIC:               </th> <td>   6800.</td> \n",
       "</tr>\n",
       "<tr>\n",
       "  <th>Df Model:</th>              <td>     1</td>      <th>                     </th>     <td> </td>    \n",
       "</tr>\n",
       "<tr>\n",
       "  <th>Covariance Type:</th>      <td>nonrobust</td>    <th>                     </th>     <td> </td>    \n",
       "</tr>\n",
       "</table>\n",
       "<table class=\"simpletable\">\n",
       "<tr>\n",
       "    <td></td>       <th>coef</th>     <th>std err</th>      <th>t</th>      <th>P>|t|</th>  <th>[0.025</th>    <th>0.975]</th>  \n",
       "</tr>\n",
       "<tr>\n",
       "  <th>const</th> <td>    0.0336</td> <td>    0.060</td> <td>    0.560</td> <td> 0.575</td> <td>   -0.084</td> <td>    0.151</td>\n",
       "</tr>\n",
       "<tr>\n",
       "  <th>X1</th>    <td>    0.7269</td> <td>    0.018</td> <td>   40.503</td> <td> 0.000</td> <td>    0.692</td> <td>    0.762</td>\n",
       "</tr>\n",
       "</table>\n",
       "<table class=\"simpletable\">\n",
       "<tr>\n",
       "  <th>Omnibus:</th>       <td>85.504</td> <th>  Durbin-Watson:     </th> <td>   0.831</td>\n",
       "</tr>\n",
       "<tr>\n",
       "  <th>Prob(Omnibus):</th> <td> 0.000</td> <th>  Jarque-Bera (JB):  </th> <td>  33.866</td>\n",
       "</tr>\n",
       "<tr>\n",
       "  <th>Skew:</th>          <td>-0.082</td> <th>  Prob(JB):          </th> <td>4.43e-08</td>\n",
       "</tr>\n",
       "<tr>\n",
       "  <th>Kurtosis:</th>      <td> 2.282</td> <th>  Cond. No.          </th> <td>    3.34</td>\n",
       "</tr>\n",
       "</table><br/><br/>Notes:<br/>[1] Standard Errors assume that the covariance matrix of the errors is correctly specified."
      ],
      "text/plain": [
       "<class 'statsmodels.iolib.summary.Summary'>\n",
       "\"\"\"\n",
       "                            OLS Regression Results                            \n",
       "==============================================================================\n",
       "Dep. Variable:                      Y   R-squared:                       0.523\n",
       "Model:                            OLS   Adj. R-squared:                  0.522\n",
       "Method:                 Least Squares   F-statistic:                     1640.\n",
       "Date:                Wed, 18 May 2022   Prob (F-statistic):          7.46e-243\n",
       "Time:                        15:35:56   Log-Likelihood:                -3392.5\n",
       "No. Observations:                1500   AIC:                             6789.\n",
       "Df Residuals:                    1498   BIC:                             6800.\n",
       "Df Model:                           1                                         \n",
       "Covariance Type:            nonrobust                                         \n",
       "==============================================================================\n",
       "                 coef    std err          t      P>|t|      [0.025      0.975]\n",
       "------------------------------------------------------------------------------\n",
       "const          0.0336      0.060      0.560      0.575      -0.084       0.151\n",
       "X1             0.7269      0.018     40.503      0.000       0.692       0.762\n",
       "==============================================================================\n",
       "Omnibus:                       85.504   Durbin-Watson:                   0.831\n",
       "Prob(Omnibus):                  0.000   Jarque-Bera (JB):               33.866\n",
       "Skew:                          -0.082   Prob(JB):                     4.43e-08\n",
       "Kurtosis:                       2.282   Cond. No.                         3.34\n",
       "==============================================================================\n",
       "\n",
       "Notes:\n",
       "[1] Standard Errors assume that the covariance matrix of the errors is correctly specified.\n",
       "\"\"\""
      ]
     },
     "execution_count": 116,
     "metadata": {},
     "output_type": "execute_result"
    }
   ],
   "source": [
    "stm.OLS(df[\"Y\"], stm.add_constant(df[\"X1\"])).fit().summary()"
   ]
  },
  {
   "cell_type": "markdown",
   "metadata": {},
   "source": [
    "### 2SLS:"
   ]
  },
  {
   "cell_type": "code",
   "execution_count": 117,
   "metadata": {},
   "outputs": [
    {
     "data": {
      "text/html": [
       "<table class=\"simpletable\">\n",
       "<tr>\n",
       "        <td>Model:</td>             <td>IV2SLS</td>          <td>R-squared:</td>       <td>-2.191</td> \n",
       "</tr>\n",
       "<tr>\n",
       "  <td>Dependent Variable:</td>         <td>Y</td>          <td>Adj. R-squared:</td>    <td>-2.193</td> \n",
       "</tr>\n",
       "<tr>\n",
       "         <td>Date:</td>        <td>2022-05-18 15:35</td>    <td>F-statistic:</td>       <td>41.03</td> \n",
       "</tr>\n",
       "<tr>\n",
       "   <td>No. Observations:</td>        <td>1500</td>       <td>Prob (F-statistic):</td> <td>2.00e-10</td>\n",
       "</tr>\n",
       "<tr>\n",
       "       <td>Df Model:</td>              <td>1</td>              <td>Scale:</td>         <td>36.115</td> \n",
       "</tr>\n",
       "<tr>\n",
       "     <td>Df Residuals:</td>          <td>1498</td>                <td></td>               <td></td>    \n",
       "</tr>\n",
       "</table>\n",
       "<table class=\"simpletable\">\n",
       "<tr>\n",
       "    <td></td>     <th>Coef.</th>  <th>Std.Err.</th>    <th>t</th>     <th>P>|t|</th> <th>[0.025</th>  <th>0.975]</th> \n",
       "</tr>\n",
       "<tr>\n",
       "  <th>const</th> <td>0.1142</td>   <td>0.1553</td>  <td>0.7352</td>  <td>0.4623</td> <td>-0.1905</td> <td>0.4189</td> \n",
       "</tr>\n",
       "<tr>\n",
       "  <th>X1</th>    <td>-0.9294</td>  <td>0.1451</td>  <td>-6.4056</td> <td>0.0000</td> <td>-1.2140</td> <td>-0.6448</td>\n",
       "</tr>\n",
       "</table>\n",
       "<table class=\"simpletable\">\n",
       "<tr>\n",
       "     <td>Omnibus:</td>    <td>1.603</td>  <td>Durbin-Watson:</td>   <td>2.068</td>\n",
       "</tr>\n",
       "<tr>\n",
       "  <td>Prob(Omnibus):</td> <td>0.449</td> <td>Jarque-Bera (JB):</td> <td>1.627</td>\n",
       "</tr>\n",
       "<tr>\n",
       "       <td>Skew:</td>     <td>0.079</td>     <td>Prob(JB):</td>     <td>0.443</td>\n",
       "</tr>\n",
       "<tr>\n",
       "     <td>Kurtosis:</td>   <td>2.970</td>  <td>Condition No.:</td>     <td>3</td>  \n",
       "</tr>\n",
       "</table>"
      ],
      "text/plain": [
       "<class 'statsmodels.iolib.summary2.Summary'>\n",
       "\"\"\"\n",
       "                         Results: IV2SLS\n",
       "=================================================================\n",
       "Model:              IV2SLS           R-squared:          -2.191  \n",
       "Dependent Variable: Y                Adj. R-squared:     -2.193  \n",
       "Date:               2022-05-18 15:35 F-statistic:        41.03   \n",
       "No. Observations:   1500             Prob (F-statistic): 2.00e-10\n",
       "Df Model:           1                Scale:              36.115  \n",
       "Df Residuals:       1498                                         \n",
       "-------------------------------------------------------------------\n",
       "           Coef.    Std.Err.      t      P>|t|     [0.025    0.975]\n",
       "-------------------------------------------------------------------\n",
       "const      0.1142     0.1553    0.7352   0.4623   -0.1905    0.4189\n",
       "X1        -0.9294     0.1451   -6.4056   0.0000   -1.2140   -0.6448\n",
       "-----------------------------------------------------------------\n",
       "Omnibus:              1.603        Durbin-Watson:           2.068\n",
       "Prob(Omnibus):        0.449        Jarque-Bera (JB):        1.627\n",
       "Skew:                 0.079        Prob(JB):                0.443\n",
       "Kurtosis:             2.970        Condition No.:           3    \n",
       "=================================================================\n",
       "\n",
       "\"\"\""
      ]
     },
     "execution_count": 117,
     "metadata": {},
     "output_type": "execute_result"
    }
   ],
   "source": [
    "IV2SLS(df[\"Y\"], stm.add_constant(df[\"X1\"]), stm.add_constant(df[\"Z1\"])).fit().summary2()"
   ]
  },
  {
   "cell_type": "markdown",
   "metadata": {},
   "source": [
    "The confidence intervals do not overlap, which is in line with our Durbin-Hausmann test."
   ]
  },
  {
   "cell_type": "markdown",
   "metadata": {},
   "source": [
    "## g"
   ]
  },
  {
   "cell_type": "code",
   "execution_count": 118,
   "metadata": {},
   "outputs": [
    {
     "name": "stdout",
     "output_type": "stream",
     "text": [
      "Requirement already satisfied: linearmodels in /Users/micha/opt/anaconda3/lib/python3.8/site-packages (4.26)\n",
      "Requirement already satisfied: formulaic~=0.3.2 in /Users/micha/opt/anaconda3/lib/python3.8/site-packages (from linearmodels) (0.3.4)\n",
      "Requirement already satisfied: pandas>=0.24 in /Users/micha/opt/anaconda3/lib/python3.8/site-packages (from linearmodels) (1.3.4)\n",
      "Requirement already satisfied: Cython>=0.29.21 in /Users/micha/opt/anaconda3/lib/python3.8/site-packages (from linearmodels) (0.29.25)\n",
      "Requirement already satisfied: setuptools-scm<7.0.0,>=6.4.2 in /Users/micha/opt/anaconda3/lib/python3.8/site-packages (from linearmodels) (6.4.2)\n",
      "Requirement already satisfied: patsy in /Users/micha/opt/anaconda3/lib/python3.8/site-packages (from linearmodels) (0.5.2)\n",
      "Requirement already satisfied: property-cached>=1.6.3 in /Users/micha/opt/anaconda3/lib/python3.8/site-packages (from linearmodels) (1.6.4)\n",
      "Requirement already satisfied: mypy-extensions>=0.4 in /Users/micha/opt/anaconda3/lib/python3.8/site-packages (from linearmodels) (0.4.3)\n",
      "Requirement already satisfied: statsmodels>=0.11 in /Users/micha/opt/anaconda3/lib/python3.8/site-packages (from linearmodels) (0.13.0)\n",
      "Requirement already satisfied: pyhdfe>=0.1 in /Users/micha/opt/anaconda3/lib/python3.8/site-packages (from linearmodels) (0.1.0)\n",
      "Requirement already satisfied: numpy>=1.16 in /Users/micha/opt/anaconda3/lib/python3.8/site-packages (from linearmodels) (1.21.2)\n",
      "Requirement already satisfied: scipy>=1.2 in /Users/micha/opt/anaconda3/lib/python3.8/site-packages (from linearmodels) (1.7.1)\n",
      "Requirement already satisfied: astor>=0.8 in /Users/micha/opt/anaconda3/lib/python3.8/site-packages (from formulaic~=0.3.2->linearmodels) (0.8.1)\n",
      "Requirement already satisfied: interface-meta<2.0.0,>=1.2.0 in /Users/micha/opt/anaconda3/lib/python3.8/site-packages (from formulaic~=0.3.2->linearmodels) (1.3.0)\n",
      "Requirement already satisfied: wrapt>=1.0 in /Users/micha/opt/anaconda3/lib/python3.8/site-packages (from formulaic~=0.3.2->linearmodels) (1.12.1)\n",
      "Requirement already satisfied: python-dateutil>=2.7.3 in /Users/micha/opt/anaconda3/lib/python3.8/site-packages (from pandas>=0.24->linearmodels) (2.8.2)\n",
      "Requirement already satisfied: pytz>=2017.3 in /Users/micha/opt/anaconda3/lib/python3.8/site-packages (from pandas>=0.24->linearmodels) (2021.3)\n",
      "Requirement already satisfied: six>=1.5 in /Users/micha/opt/anaconda3/lib/python3.8/site-packages (from python-dateutil>=2.7.3->pandas>=0.24->linearmodels) (1.16.0)\n",
      "Requirement already satisfied: packaging>=20.0 in /Users/micha/opt/anaconda3/lib/python3.8/site-packages (from setuptools-scm<7.0.0,>=6.4.2->linearmodels) (21.3)\n",
      "Requirement already satisfied: tomli>=1.0.0 in /Users/micha/opt/anaconda3/lib/python3.8/site-packages (from setuptools-scm<7.0.0,>=6.4.2->linearmodels) (1.2.1)\n",
      "Requirement already satisfied: setuptools in /Users/micha/opt/anaconda3/lib/python3.8/site-packages (from setuptools-scm<7.0.0,>=6.4.2->linearmodels) (58.0.4)\n",
      "Requirement already satisfied: pyparsing!=3.0.5,>=2.0.2 in /Users/micha/opt/anaconda3/lib/python3.8/site-packages (from packaging>=20.0->setuptools-scm<7.0.0,>=6.4.2->linearmodels) (3.0.4)\n"
     ]
    }
   ],
   "source": [
    "!pip install linearmodels"
   ]
  },
  {
   "cell_type": "code",
   "execution_count": 119,
   "metadata": {},
   "outputs": [],
   "source": [
    "from linearmodels.iv.model import IV2SLS as IV2SLS_"
   ]
  },
  {
   "cell_type": "code",
   "execution_count": 120,
   "metadata": {},
   "outputs": [
    {
     "data": {
      "text/plain": [
       "Invalid test statistic\n",
       "Test requires more instruments than endogenous variables.\n",
       "Sargan's test of overidentification\n",
       "InvalidTestStatistic, id: 0x7fc5b1ece580"
      ]
     },
     "execution_count": 120,
     "metadata": {},
     "output_type": "execute_result"
    }
   ],
   "source": [
    "IV2SLS_model = IV2SLS_(df[\"Y\"], np.ones(1500), df[\"X1\"], df[\"Z1\"]).fit(cov_type=\"unadjusted\")\n",
    "IV2SLS_model.sargan"
   ]
  },
  {
   "cell_type": "markdown",
   "metadata": {},
   "source": [
    "Ik heb oprecht geen idee, maar hij zegt dat het alleen kan als je meerdere instruments hebt. Hier onder heb ik gedaan zoals staat in de slides handmatig, maar dat geeft een extreem lage waarde."
   ]
  },
  {
   "cell_type": "code",
   "execution_count": 121,
   "metadata": {},
   "outputs": [
    {
     "data": {
      "text/plain": [
       "1.6653345369377348e-13"
      ]
     },
     "execution_count": 121,
     "metadata": {},
     "output_type": "execute_result"
    }
   ],
   "source": [
    "model = stm.OLS(df[\"Y\"], stm.add_constant(x_hat)).fit()\n",
    "u_hat = (df[\"Y\"] - model.predict(stm.add_constant(x_hat)))\n",
    "stm.OLS(u_hat, stm.add_constant(df[\"Z1\"])).fit().rsquared * 1500"
   ]
  },
  {
   "cell_type": "markdown",
   "metadata": {},
   "source": [
    "## h"
   ]
  },
  {
   "cell_type": "code",
   "execution_count": 122,
   "metadata": {},
   "outputs": [
    {
     "data": {
      "text/html": [
       "<table class=\"simpletable\">\n",
       "<caption>IV-2SLS Estimation Summary</caption>\n",
       "<tr>\n",
       "  <th>Dep. Variable:</th>        <td>dependent</td>    <th>  R-squared:         </th> <td>-2.3164</td>\n",
       "</tr>\n",
       "<tr>\n",
       "  <th>Estimator:</th>             <td>IV-2SLS</td>     <th>  Adj. R-squared:    </th> <td>-2.3186</td>\n",
       "</tr>\n",
       "<tr>\n",
       "  <th>No. Observations:</th>       <td>1500</td>       <th>  F-statistic:       </th> <td>43.223</td> \n",
       "</tr>\n",
       "<tr>\n",
       "  <th>Date:</th>             <td>Wed, May 18 2022</td> <th>  P-value (F-stat)   </th> <td>0.0000</td> \n",
       "</tr>\n",
       "<tr>\n",
       "  <th>Time:</th>                 <td>15:35:59</td>     <th>  Distribution:      </th> <td>chi2(1)</td>\n",
       "</tr>\n",
       "<tr>\n",
       "  <th>Cov. Estimator:</th>      <td>unadjusted</td>    <th>                     </th>    <td></td>    \n",
       "</tr>\n",
       "<tr>\n",
       "  <th></th>                          <td></td>         <th>                     </th>    <td></td>    \n",
       "</tr>\n",
       "</table>\n",
       "<table class=\"simpletable\">\n",
       "<caption>Parameter Estimates</caption>\n",
       "<tr>\n",
       "    <td></td>   <th>Parameter</th> <th>Std. Err.</th> <th>T-stat</th>  <th>P-value</th> <th>Lower CI</th> <th>Upper CI</th>\n",
       "</tr>\n",
       "<tr>\n",
       "  <th>exog</th>  <td>0.0665</td>    <td>0.1590</td>   <td>0.4182</td>  <td>0.6758</td>   <td>-0.2451</td>  <td>0.3780</td> \n",
       "</tr>\n",
       "<tr>\n",
       "  <th>X1</th>    <td>-0.9761</td>   <td>0.1485</td>   <td>-6.5744</td> <td>0.0000</td>   <td>-1.2671</td>  <td>-0.6851</td>\n",
       "</tr>\n",
       "</table><br/><br/>Endogenous: X1<br/>Instruments: Z1<br/>Unadjusted Covariance (Homoskedastic)<br/>Debiased: False<br/>id: 0x7fc5b1ecebe0"
      ],
      "text/plain": [
       "                          IV-2SLS Estimation Summary                          \n",
       "==============================================================================\n",
       "Dep. Variable:              dependent   R-squared:                     -2.3164\n",
       "Estimator:                    IV-2SLS   Adj. R-squared:                -2.3186\n",
       "No. Observations:                1500   F-statistic:                    43.223\n",
       "Date:                Wed, May 18 2022   P-value (F-stat)                0.0000\n",
       "Time:                        15:35:59   Distribution:                  chi2(1)\n",
       "Cov. Estimator:            unadjusted                                         \n",
       "                                                                              \n",
       "                             Parameter Estimates                              \n",
       "==============================================================================\n",
       "            Parameter  Std. Err.     T-stat    P-value    Lower CI    Upper CI\n",
       "------------------------------------------------------------------------------\n",
       "exog           0.0665     0.1590     0.4182     0.6758     -0.2451      0.3780\n",
       "X1            -0.9761     0.1485    -6.5744     0.0000     -1.2671     -0.6851\n",
       "==============================================================================\n",
       "\n",
       "Endogenous: X1\n",
       "Instruments: Z1\n",
       "Unadjusted Covariance (Homoskedastic)\n",
       "Debiased: False\n",
       "IVResults, id: 0x7fc5b1ecebe0"
      ]
     },
     "execution_count": 122,
     "metadata": {},
     "output_type": "execute_result"
    }
   ],
   "source": [
    "y_star = df[\"Y\"] - 0.1 * df[\"Z1\"]\n",
    "IV2SLS_(y_star, np.ones(1500), df[\"X1\"], df[\"Z1\"]).fit(cov_type=\"unadjusted\")"
   ]
  },
  {
   "cell_type": "markdown",
   "metadata": {},
   "source": [
    "## i"
   ]
  },
  {
   "cell_type": "code",
   "execution_count": 123,
   "metadata": {},
   "outputs": [
    {
     "data": {
      "text/html": [
       "<div>\n",
       "<style scoped>\n",
       "    .dataframe tbody tr th:only-of-type {\n",
       "        vertical-align: middle;\n",
       "    }\n",
       "\n",
       "    .dataframe tbody tr th {\n",
       "        vertical-align: top;\n",
       "    }\n",
       "\n",
       "    .dataframe thead th {\n",
       "        text-align: right;\n",
       "    }\n",
       "</style>\n",
       "<table border=\"1\" class=\"dataframe\">\n",
       "  <thead>\n",
       "    <tr style=\"text-align: right;\">\n",
       "      <th></th>\n",
       "      <th>Y</th>\n",
       "      <th>X1</th>\n",
       "      <th>X1^2</th>\n",
       "    </tr>\n",
       "  </thead>\n",
       "  <tbody>\n",
       "    <tr>\n",
       "      <th>0</th>\n",
       "      <td>33.212895</td>\n",
       "      <td>8.565474</td>\n",
       "      <td>73.367351</td>\n",
       "    </tr>\n",
       "    <tr>\n",
       "      <th>1</th>\n",
       "      <td>4.517619</td>\n",
       "      <td>4.533346</td>\n",
       "      <td>20.551227</td>\n",
       "    </tr>\n",
       "    <tr>\n",
       "      <th>2</th>\n",
       "      <td>2.753637</td>\n",
       "      <td>6.018066</td>\n",
       "      <td>36.217116</td>\n",
       "    </tr>\n",
       "    <tr>\n",
       "      <th>3</th>\n",
       "      <td>38.236895</td>\n",
       "      <td>9.126797</td>\n",
       "      <td>83.298422</td>\n",
       "    </tr>\n",
       "    <tr>\n",
       "      <th>4</th>\n",
       "      <td>36.177911</td>\n",
       "      <td>8.800101</td>\n",
       "      <td>77.441781</td>\n",
       "    </tr>\n",
       "    <tr>\n",
       "      <th>...</th>\n",
       "      <td>...</td>\n",
       "      <td>...</td>\n",
       "      <td>...</td>\n",
       "    </tr>\n",
       "    <tr>\n",
       "      <th>1495</th>\n",
       "      <td>25.483493</td>\n",
       "      <td>7.848047</td>\n",
       "      <td>61.591835</td>\n",
       "    </tr>\n",
       "    <tr>\n",
       "      <th>1496</th>\n",
       "      <td>25.333941</td>\n",
       "      <td>8.098631</td>\n",
       "      <td>65.587824</td>\n",
       "    </tr>\n",
       "    <tr>\n",
       "      <th>1497</th>\n",
       "      <td>15.565423</td>\n",
       "      <td>6.943013</td>\n",
       "      <td>48.205427</td>\n",
       "    </tr>\n",
       "    <tr>\n",
       "      <th>1498</th>\n",
       "      <td>-0.667540</td>\n",
       "      <td>2.397400</td>\n",
       "      <td>5.747527</td>\n",
       "    </tr>\n",
       "    <tr>\n",
       "      <th>1499</th>\n",
       "      <td>8.300870</td>\n",
       "      <td>1.176949</td>\n",
       "      <td>1.385208</td>\n",
       "    </tr>\n",
       "  </tbody>\n",
       "</table>\n",
       "<p>1500 rows × 3 columns</p>\n",
       "</div>"
      ],
      "text/plain": [
       "              Y        X1       X1^2\n",
       "0     33.212895  8.565474  73.367351\n",
       "1      4.517619  4.533346  20.551227\n",
       "2      2.753637  6.018066  36.217116\n",
       "3     38.236895  9.126797  83.298422\n",
       "4     36.177911  8.800101  77.441781\n",
       "...         ...       ...        ...\n",
       "1495  25.483493  7.848047  61.591835\n",
       "1496  25.333941  8.098631  65.587824\n",
       "1497  15.565423  6.943013  48.205427\n",
       "1498  -0.667540  2.397400   5.747527\n",
       "1499   8.300870  1.176949   1.385208\n",
       "\n",
       "[1500 rows x 3 columns]"
      ]
     },
     "execution_count": 123,
     "metadata": {},
     "output_type": "execute_result"
    }
   ],
   "source": [
    "df_ml = pd.read_excel(\"OLS_and_ML_01.xlsx\")\n",
    "df_ml[\"X1^2\"] = df_ml[\"X1\"] ** 2\n",
    "df_ml"
   ]
  },
  {
   "cell_type": "code",
   "execution_count": 146,
   "metadata": {},
   "outputs": [
    {
     "data": {
      "text/html": [
       "<table class=\"simpletable\">\n",
       "<caption>OLS Regression Results</caption>\n",
       "<tr>\n",
       "  <th>Dep. Variable:</th>            <td>Y</td>        <th>  R-squared:         </th> <td>   0.683</td> \n",
       "</tr>\n",
       "<tr>\n",
       "  <th>Model:</th>                   <td>OLS</td>       <th>  Adj. R-squared:    </th> <td>   0.683</td> \n",
       "</tr>\n",
       "<tr>\n",
       "  <th>Method:</th>             <td>Least Squares</td>  <th>  F-statistic:       </th> <td>   3224.</td> \n",
       "</tr>\n",
       "<tr>\n",
       "  <th>Date:</th>             <td>Wed, 18 May 2022</td> <th>  Prob (F-statistic):</th>  <td>  0.00</td>  \n",
       "</tr>\n",
       "<tr>\n",
       "  <th>Time:</th>                 <td>15:50:57</td>     <th>  Log-Likelihood:    </th> <td> -5175.7</td> \n",
       "</tr>\n",
       "<tr>\n",
       "  <th>No. Observations:</th>      <td>  1500</td>      <th>  AIC:               </th> <td>1.036e+04</td>\n",
       "</tr>\n",
       "<tr>\n",
       "  <th>Df Residuals:</th>          <td>  1498</td>      <th>  BIC:               </th> <td>1.037e+04</td>\n",
       "</tr>\n",
       "<tr>\n",
       "  <th>Df Model:</th>              <td>     1</td>      <th>                     </th>     <td> </td>    \n",
       "</tr>\n",
       "<tr>\n",
       "  <th>Covariance Type:</th>      <td>nonrobust</td>    <th>                     </th>     <td> </td>    \n",
       "</tr>\n",
       "</table>\n",
       "<table class=\"simpletable\">\n",
       "<tr>\n",
       "    <td></td>       <th>coef</th>     <th>std err</th>      <th>t</th>      <th>P>|t|</th>  <th>[0.025</th>    <th>0.975]</th>  \n",
       "</tr>\n",
       "<tr>\n",
       "  <th>const</th> <td>   -5.4779</td> <td>    0.399</td> <td>  -13.716</td> <td> 0.000</td> <td>   -6.261</td> <td>   -4.694</td>\n",
       "</tr>\n",
       "<tr>\n",
       "  <th>X1</th>    <td>    3.9215</td> <td>    0.069</td> <td>   56.780</td> <td> 0.000</td> <td>    3.786</td> <td>    4.057</td>\n",
       "</tr>\n",
       "</table>\n",
       "<table class=\"simpletable\">\n",
       "<tr>\n",
       "  <th>Omnibus:</th>       <td>121.233</td> <th>  Durbin-Watson:     </th> <td>   1.990</td>\n",
       "</tr>\n",
       "<tr>\n",
       "  <th>Prob(Omnibus):</th> <td> 0.000</td>  <th>  Jarque-Bera (JB):  </th> <td> 100.810</td>\n",
       "</tr>\n",
       "<tr>\n",
       "  <th>Skew:</th>          <td> 0.553</td>  <th>  Prob(JB):          </th> <td>1.29e-22</td>\n",
       "</tr>\n",
       "<tr>\n",
       "  <th>Kurtosis:</th>      <td> 2.375</td>  <th>  Cond. No.          </th> <td>    12.0</td>\n",
       "</tr>\n",
       "</table><br/><br/>Notes:<br/>[1] Standard Errors assume that the covariance matrix of the errors is correctly specified."
      ],
      "text/plain": [
       "<class 'statsmodels.iolib.summary.Summary'>\n",
       "\"\"\"\n",
       "                            OLS Regression Results                            \n",
       "==============================================================================\n",
       "Dep. Variable:                      Y   R-squared:                       0.683\n",
       "Model:                            OLS   Adj. R-squared:                  0.683\n",
       "Method:                 Least Squares   F-statistic:                     3224.\n",
       "Date:                Wed, 18 May 2022   Prob (F-statistic):               0.00\n",
       "Time:                        15:50:57   Log-Likelihood:                -5175.7\n",
       "No. Observations:                1500   AIC:                         1.036e+04\n",
       "Df Residuals:                    1498   BIC:                         1.037e+04\n",
       "Df Model:                           1                                         \n",
       "Covariance Type:            nonrobust                                         \n",
       "==============================================================================\n",
       "                 coef    std err          t      P>|t|      [0.025      0.975]\n",
       "------------------------------------------------------------------------------\n",
       "const         -5.4779      0.399    -13.716      0.000      -6.261      -4.694\n",
       "X1             3.9215      0.069     56.780      0.000       3.786       4.057\n",
       "==============================================================================\n",
       "Omnibus:                      121.233   Durbin-Watson:                   1.990\n",
       "Prob(Omnibus):                  0.000   Jarque-Bera (JB):              100.810\n",
       "Skew:                           0.553   Prob(JB):                     1.29e-22\n",
       "Kurtosis:                       2.375   Cond. No.                         12.0\n",
       "==============================================================================\n",
       "\n",
       "Notes:\n",
       "[1] Standard Errors assume that the covariance matrix of the errors is correctly specified.\n",
       "\"\"\""
      ]
     },
     "metadata": {},
     "output_type": "display_data"
    },
    {
     "name": "stderr",
     "output_type": "stream",
     "text": [
      "/Users/micha/opt/anaconda3/lib/python3.8/site-packages/statsmodels/stats/diagnostic.py:1081: FutureWarning: Support for multi-dimensional indexing (e.g. `obj[:, None]`) is deprecated and will be removed in a future version.  Convert to a numpy array before indexing instead.\n",
      "  aug = res.fittedvalues[:, None]\n"
     ]
    },
    {
     "data": {
      "text/plain": [
       "'<F test: F=array([[7182.19437767]]), p=0.0, df_denom=1.5e+03, df_num=2>'"
      ]
     },
     "metadata": {},
     "output_type": "display_data"
    }
   ],
   "source": [
    "from statsmodels.stats.diagnostic import linear_reset\n",
    "\n",
    "ml_model = stm.OLS(df_ml[\"Y\"], stm.add_constant(df_ml[\"X1\"])).fit()\n",
    "display(ml_model.summary())\n",
    "display(linear_reset(ml_model, use_f=True, cov_type=\"HC0\").summary())"
   ]
  },
  {
   "cell_type": "markdown",
   "metadata": {},
   "source": [
    "Thus accepts $H_0$ (linear)."
   ]
  },
  {
   "cell_type": "markdown",
   "metadata": {},
   "source": [
    "## j"
   ]
  },
  {
   "cell_type": "code",
   "execution_count": 147,
   "metadata": {},
   "outputs": [
    {
     "data": {
      "text/html": [
       "<table class=\"simpletable\">\n",
       "<caption>OLS Regression Results</caption>\n",
       "<tr>\n",
       "  <th>Dep. Variable:</th>            <td>Y</td>        <th>  R-squared:         </th> <td>   0.968</td> \n",
       "</tr>\n",
       "<tr>\n",
       "  <th>Model:</th>                   <td>OLS</td>       <th>  Adj. R-squared:    </th> <td>   0.968</td> \n",
       "</tr>\n",
       "<tr>\n",
       "  <th>Method:</th>             <td>Least Squares</td>  <th>  F-statistic:       </th> <td>2.254e+04</td>\n",
       "</tr>\n",
       "<tr>\n",
       "  <th>Date:</th>             <td>Wed, 18 May 2022</td> <th>  Prob (F-statistic):</th>  <td>  0.00</td>  \n",
       "</tr>\n",
       "<tr>\n",
       "  <th>Time:</th>                 <td>15:52:44</td>     <th>  Log-Likelihood:    </th> <td> -3458.7</td> \n",
       "</tr>\n",
       "<tr>\n",
       "  <th>No. Observations:</th>      <td>  1500</td>      <th>  AIC:               </th> <td>   6923.</td> \n",
       "</tr>\n",
       "<tr>\n",
       "  <th>Df Residuals:</th>          <td>  1497</td>      <th>  BIC:               </th> <td>   6939.</td> \n",
       "</tr>\n",
       "<tr>\n",
       "  <th>Df Model:</th>              <td>     2</td>      <th>                     </th>     <td> </td>    \n",
       "</tr>\n",
       "<tr>\n",
       "  <th>Covariance Type:</th>      <td>nonrobust</td>    <th>                     </th>     <td> </td>    \n",
       "</tr>\n",
       "</table>\n",
       "<table class=\"simpletable\">\n",
       "<tr>\n",
       "    <td></td>       <th>coef</th>     <th>std err</th>      <th>t</th>      <th>P>|t|</th>  <th>[0.025</th>    <th>0.975]</th>  \n",
       "</tr>\n",
       "<tr>\n",
       "  <th>const</th> <td>   11.0997</td> <td>    0.192</td> <td>   57.806</td> <td> 0.000</td> <td>   10.723</td> <td>   11.476</td>\n",
       "</tr>\n",
       "<tr>\n",
       "  <th>X1</th>    <td>   -6.0241</td> <td>    0.089</td> <td>  -67.632</td> <td> 0.000</td> <td>   -6.199</td> <td>   -5.849</td>\n",
       "</tr>\n",
       "<tr>\n",
       "  <th>X1^2</th>  <td>    1.0003</td> <td>    0.009</td> <td>  115.226</td> <td> 0.000</td> <td>    0.983</td> <td>    1.017</td>\n",
       "</tr>\n",
       "</table>\n",
       "<table class=\"simpletable\">\n",
       "<tr>\n",
       "  <th>Omnibus:</th>       <td>31.346</td> <th>  Durbin-Watson:     </th> <td>   2.030</td>\n",
       "</tr>\n",
       "<tr>\n",
       "  <th>Prob(Omnibus):</th> <td> 0.000</td> <th>  Jarque-Bera (JB):  </th> <td>  59.622</td>\n",
       "</tr>\n",
       "<tr>\n",
       "  <th>Skew:</th>          <td> 0.100</td> <th>  Prob(JB):          </th> <td>1.13e-13</td>\n",
       "</tr>\n",
       "<tr>\n",
       "  <th>Kurtosis:</th>      <td> 3.956</td> <th>  Cond. No.          </th> <td>    148.</td>\n",
       "</tr>\n",
       "</table><br/><br/>Notes:<br/>[1] Standard Errors assume that the covariance matrix of the errors is correctly specified."
      ],
      "text/plain": [
       "<class 'statsmodels.iolib.summary.Summary'>\n",
       "\"\"\"\n",
       "                            OLS Regression Results                            \n",
       "==============================================================================\n",
       "Dep. Variable:                      Y   R-squared:                       0.968\n",
       "Model:                            OLS   Adj. R-squared:                  0.968\n",
       "Method:                 Least Squares   F-statistic:                 2.254e+04\n",
       "Date:                Wed, 18 May 2022   Prob (F-statistic):               0.00\n",
       "Time:                        15:52:44   Log-Likelihood:                -3458.7\n",
       "No. Observations:                1500   AIC:                             6923.\n",
       "Df Residuals:                    1497   BIC:                             6939.\n",
       "Df Model:                           2                                         \n",
       "Covariance Type:            nonrobust                                         \n",
       "==============================================================================\n",
       "                 coef    std err          t      P>|t|      [0.025      0.975]\n",
       "------------------------------------------------------------------------------\n",
       "const         11.0997      0.192     57.806      0.000      10.723      11.476\n",
       "X1            -6.0241      0.089    -67.632      0.000      -6.199      -5.849\n",
       "X1^2           1.0003      0.009    115.226      0.000       0.983       1.017\n",
       "==============================================================================\n",
       "Omnibus:                       31.346   Durbin-Watson:                   2.030\n",
       "Prob(Omnibus):                  0.000   Jarque-Bera (JB):               59.622\n",
       "Skew:                           0.100   Prob(JB):                     1.13e-13\n",
       "Kurtosis:                       3.956   Cond. No.                         148.\n",
       "==============================================================================\n",
       "\n",
       "Notes:\n",
       "[1] Standard Errors assume that the covariance matrix of the errors is correctly specified.\n",
       "\"\"\""
      ]
     },
     "metadata": {},
     "output_type": "display_data"
    },
    {
     "name": "stderr",
     "output_type": "stream",
     "text": [
      "/Users/micha/opt/anaconda3/lib/python3.8/site-packages/statsmodels/stats/diagnostic.py:1081: FutureWarning: Support for multi-dimensional indexing (e.g. `obj[:, None]`) is deprecated and will be removed in a future version.  Convert to a numpy array before indexing instead.\n",
      "  aug = res.fittedvalues[:, None]\n"
     ]
    },
    {
     "data": {
      "text/plain": [
       "'<F test: F=array([[0.35779667]]), p=0.6992750915944113, df_denom=1.5e+03, df_num=2>'"
      ]
     },
     "metadata": {},
     "output_type": "display_data"
    }
   ],
   "source": [
    "squared_model = stm.OLS(df_ml[\"Y\"], stm.add_constant(df_ml[[\"X1\", \"X1^2\"]])).fit()\n",
    "display(squared_model.summary())\n",
    "display(linear_reset(squared_model, use_f=True, cov_type=\"HC0\").summary())"
   ]
  },
  {
   "cell_type": "markdown",
   "metadata": {},
   "source": [
    "## k"
   ]
  },
  {
   "cell_type": "code",
   "execution_count": 126,
   "metadata": {},
   "outputs": [
    {
     "data": {
      "text/plain": [
       "Jarque_beraResult(statistic=59.62159902846151, pvalue=1.1302070390684094e-13)"
      ]
     },
     "execution_count": 126,
     "metadata": {},
     "output_type": "execute_result"
    }
   ],
   "source": [
    "sts.jarque_bera(squared_model.resid)"
   ]
  },
  {
   "cell_type": "markdown",
   "metadata": {},
   "source": [
    "Thus not normally distributed."
   ]
  },
  {
   "cell_type": "markdown",
   "metadata": {},
   "source": [
    "## l"
   ]
  },
  {
   "cell_type": "code",
   "execution_count": 127,
   "metadata": {},
   "outputs": [
    {
     "name": "stdout",
     "output_type": "stream",
     "text": [
      "Optimization terminated successfully.\n",
      "         Current function value: 2.295276\n",
      "         Iterations: 229\n",
      "         Function evaluations: 375\n"
     ]
    },
    {
     "name": "stderr",
     "output_type": "stream",
     "text": [
      "/Users/micha/opt/anaconda3/lib/python3.8/site-packages/statsmodels/base/model.py:2653: UserWarning: df_model + k_constant differs from nparams\n",
      "  warnings.warn(\"df_model + k_constant differs from nparams\")\n",
      "/Users/micha/opt/anaconda3/lib/python3.8/site-packages/statsmodels/base/model.py:2655: UserWarning: df_resid differs from nobs - nparams\n",
      "  warnings.warn(\"df_resid differs from nobs - nparams\")\n"
     ]
    },
    {
     "data": {
      "text/html": [
       "<table class=\"simpletable\">\n",
       "<caption>TLinearModel Results</caption>\n",
       "<tr>\n",
       "  <th>Dep. Variable:</th>             <td>Y</td>         <th>  Log-Likelihood:    </th> <td> -3442.9</td>\n",
       "</tr>\n",
       "<tr>\n",
       "  <th>Model:</th>               <td>TLinearModel</td>    <th>  AIC:               </th> <td>   6892.</td>\n",
       "</tr>\n",
       "<tr>\n",
       "  <th>Method:</th>           <td>Maximum Likelihood</td> <th>  BIC:               </th> <td>   6908.</td>\n",
       "</tr>\n",
       "<tr>\n",
       "  <th>Date:</th>              <td>Wed, 18 May 2022</td>  <th>                     </th>     <td> </td>   \n",
       "</tr>\n",
       "<tr>\n",
       "  <th>Time:</th>                  <td>15:36:01</td>      <th>                     </th>     <td> </td>   \n",
       "</tr>\n",
       "<tr>\n",
       "  <th>No. Observations:</th>       <td>  1500</td>       <th>                     </th>     <td> </td>   \n",
       "</tr>\n",
       "<tr>\n",
       "  <th>Df Residuals:</th>           <td>  1497</td>       <th>                     </th>     <td> </td>   \n",
       "</tr>\n",
       "<tr>\n",
       "  <th>Df Model:</th>               <td>     2</td>       <th>                     </th>     <td> </td>   \n",
       "</tr>\n",
       "</table>\n",
       "<table class=\"simpletable\">\n",
       "<tr>\n",
       "    <td></td>       <th>coef</th>     <th>std err</th>      <th>z</th>      <th>P>|z|</th>  <th>[0.025</th>    <th>0.975]</th>  \n",
       "</tr>\n",
       "<tr>\n",
       "  <th>const</th> <td>   11.0907</td> <td>    0.184</td> <td>   60.158</td> <td> 0.000</td> <td>   10.729</td> <td>   11.452</td>\n",
       "</tr>\n",
       "<tr>\n",
       "  <th>X1</th>    <td>   -6.0320</td> <td>    0.086</td> <td>  -70.499</td> <td> 0.000</td> <td>   -6.200</td> <td>   -5.864</td>\n",
       "</tr>\n",
       "<tr>\n",
       "  <th>X1^2</th>  <td>    1.0014</td> <td>    0.008</td> <td>  120.226</td> <td> 0.000</td> <td>    0.985</td> <td>    1.018</td>\n",
       "</tr>\n",
       "<tr>\n",
       "  <th>df</th>    <td>    9.0162</td> <td>    1.939</td> <td>    4.650</td> <td> 0.000</td> <td>    5.216</td> <td>   12.816</td>\n",
       "</tr>\n",
       "<tr>\n",
       "  <th>scale</th> <td>    2.1438</td> <td>    0.065</td> <td>   33.151</td> <td> 0.000</td> <td>    2.017</td> <td>    2.271</td>\n",
       "</tr>\n",
       "</table>"
      ],
      "text/plain": [
       "<class 'statsmodels.iolib.summary.Summary'>\n",
       "\"\"\"\n",
       "                             TLinearModel Results                             \n",
       "==============================================================================\n",
       "Dep. Variable:                      Y   Log-Likelihood:                -3442.9\n",
       "Model:                   TLinearModel   AIC:                             6892.\n",
       "Method:            Maximum Likelihood   BIC:                             6908.\n",
       "Date:                Wed, 18 May 2022                                         \n",
       "Time:                        15:36:01                                         \n",
       "No. Observations:                1500                                         \n",
       "Df Residuals:                    1497                                         \n",
       "Df Model:                           2                                         \n",
       "==============================================================================\n",
       "                 coef    std err          z      P>|z|      [0.025      0.975]\n",
       "------------------------------------------------------------------------------\n",
       "const         11.0907      0.184     60.158      0.000      10.729      11.452\n",
       "X1            -6.0320      0.086    -70.499      0.000      -6.200      -5.864\n",
       "X1^2           1.0014      0.008    120.226      0.000       0.985       1.018\n",
       "df             9.0162      1.939      4.650      0.000       5.216      12.816\n",
       "scale          2.1438      0.065     33.151      0.000       2.017       2.271\n",
       "==============================================================================\n",
       "\"\"\""
      ]
     },
     "execution_count": 127,
     "metadata": {},
     "output_type": "execute_result"
    }
   ],
   "source": [
    "from statsmodels.miscmodels.tmodel import TLinearModel\n",
    "ml_t_model = TLinearModel(df_ml[\"Y\"], stm.add_constant(df_ml[[\"X1\", \"X1^2\"]])).fit(maxiter=1000000)\n",
    "ml_t_model.summary()"
   ]
  },
  {
   "cell_type": "markdown",
   "metadata": {},
   "source": [
    "## m"
   ]
  },
  {
   "cell_type": "code",
   "execution_count": 128,
   "metadata": {},
   "outputs": [
    {
     "data": {
      "text/plain": [
       "Jarque_beraResult(statistic=0.6157706564729434, pvalue=0.7349995968767395)"
      ]
     },
     "execution_count": 128,
     "metadata": {},
     "output_type": "execute_result"
    }
   ],
   "source": [
    "u_hat_2 = df_ml[\"Y\"] - ml_t_model.predict(stm.add_constant(df_ml[[\"X1\", \"X1^2\"]]))\n",
    "\n",
    "sts.jarque_bera(sts.norm.ppf(sts.t.cdf(u_hat_2, df=ml_t_model.params[3], scale=ml_t_model.params[4])))"
   ]
  },
  {
   "cell_type": "markdown",
   "metadata": {},
   "source": [
    "## n\n",
    "Geen code."
   ]
  },
  {
   "cell_type": "markdown",
   "metadata": {},
   "source": [
    "## o\n",
    "Geen code."
   ]
  },
  {
   "cell_type": "markdown",
   "metadata": {},
   "source": [
    "## p"
   ]
  },
  {
   "cell_type": "code",
   "execution_count": 129,
   "metadata": {},
   "outputs": [
    {
     "name": "stdout",
     "output_type": "stream",
     "text": [
      "Optimization terminated successfully.\n",
      "         Current function value: 3.450474\n",
      "         Iterations: 412\n",
      "         Function evaluations: 783\n"
     ]
    },
    {
     "name": "stderr",
     "output_type": "stream",
     "text": [
      "/Users/micha/opt/anaconda3/lib/python3.8/site-packages/statsmodels/base/model.py:2653: UserWarning: df_model + k_constant differs from nparams\n",
      "  warnings.warn(\"df_model + k_constant differs from nparams\")\n",
      "/Users/micha/opt/anaconda3/lib/python3.8/site-packages/statsmodels/base/model.py:2655: UserWarning: df_resid differs from nobs - nparams\n",
      "  warnings.warn(\"df_resid differs from nobs - nparams\")\n"
     ]
    },
    {
     "data": {
      "text/html": [
       "<table class=\"simpletable\">\n",
       "<caption>TLinearModel Results</caption>\n",
       "<tr>\n",
       "  <th>Dep. Variable:</th>             <td>Y</td>         <th>  Log-Likelihood:    </th> <td> -5175.7</td> \n",
       "</tr>\n",
       "<tr>\n",
       "  <th>Model:</th>               <td>TLinearModel</td>    <th>  AIC:               </th> <td>1.036e+04</td>\n",
       "</tr>\n",
       "<tr>\n",
       "  <th>Method:</th>           <td>Maximum Likelihood</td> <th>  BIC:               </th> <td>1.037e+04</td>\n",
       "</tr>\n",
       "<tr>\n",
       "  <th>Date:</th>              <td>Wed, 18 May 2022</td>  <th>                     </th>     <td> </td>    \n",
       "</tr>\n",
       "<tr>\n",
       "  <th>Time:</th>                  <td>15:36:01</td>      <th>                     </th>     <td> </td>    \n",
       "</tr>\n",
       "<tr>\n",
       "  <th>No. Observations:</th>       <td>  1500</td>       <th>                     </th>     <td> </td>    \n",
       "</tr>\n",
       "<tr>\n",
       "  <th>Df Residuals:</th>           <td>  1498</td>       <th>                     </th>     <td> </td>    \n",
       "</tr>\n",
       "<tr>\n",
       "  <th>Df Model:</th>               <td>     1</td>       <th>                     </th>     <td> </td>    \n",
       "</tr>\n",
       "</table>\n",
       "<table class=\"simpletable\">\n",
       "<tr>\n",
       "    <td></td>       <th>coef</th>     <th>std err</th>      <th>z</th>      <th>P>|z|</th>  <th>[0.025</th>    <th>0.975]</th>  \n",
       "</tr>\n",
       "<tr>\n",
       "  <th>const</th> <td>   -5.4770</td> <td>    0.399</td> <td>  -13.722</td> <td> 0.000</td> <td>   -6.259</td> <td>   -4.695</td>\n",
       "</tr>\n",
       "<tr>\n",
       "  <th>X1</th>    <td>    3.9214</td> <td>    0.069</td> <td>   56.813</td> <td> 0.000</td> <td>    3.786</td> <td>    4.057</td>\n",
       "</tr>\n",
       "<tr>\n",
       "  <th>df</th>    <td> 7.342e+06</td> <td> 3.79e+05</td> <td>   19.367</td> <td> 0.000</td> <td>  6.6e+06</td> <td> 8.08e+06</td>\n",
       "</tr>\n",
       "<tr>\n",
       "  <th>scale</th> <td>    7.6262</td> <td>    0.139</td> <td>   54.765</td> <td> 0.000</td> <td>    7.353</td> <td>    7.899</td>\n",
       "</tr>\n",
       "</table>"
      ],
      "text/plain": [
       "<class 'statsmodels.iolib.summary.Summary'>\n",
       "\"\"\"\n",
       "                             TLinearModel Results                             \n",
       "==============================================================================\n",
       "Dep. Variable:                      Y   Log-Likelihood:                -5175.7\n",
       "Model:                   TLinearModel   AIC:                         1.036e+04\n",
       "Method:            Maximum Likelihood   BIC:                         1.037e+04\n",
       "Date:                Wed, 18 May 2022                                         \n",
       "Time:                        15:36:01                                         \n",
       "No. Observations:                1500                                         \n",
       "Df Residuals:                    1498                                         \n",
       "Df Model:                           1                                         \n",
       "==============================================================================\n",
       "                 coef    std err          z      P>|z|      [0.025      0.975]\n",
       "------------------------------------------------------------------------------\n",
       "const         -5.4770      0.399    -13.722      0.000      -6.259      -4.695\n",
       "X1             3.9214      0.069     56.813      0.000       3.786       4.057\n",
       "df          7.342e+06   3.79e+05     19.367      0.000     6.6e+06    8.08e+06\n",
       "scale          7.6262      0.139     54.765      0.000       7.353       7.899\n",
       "==============================================================================\n",
       "\"\"\""
      ]
     },
     "metadata": {},
     "output_type": "display_data"
    },
    {
     "data": {
      "text/plain": [
       "Jarque_beraResult(statistic=100.80896045829437, pvalue=0.0)"
      ]
     },
     "execution_count": 129,
     "metadata": {},
     "output_type": "execute_result"
    }
   ],
   "source": [
    "ml_t_model_small = TLinearModel(df_ml[\"Y\"], stm.add_constant(df_ml[\"X1\"])).fit(maxiter=1000000)\n",
    "display(ml_t_model_small.summary())\n",
    "u_hat_3 = df_ml[\"Y\"] - ml_t_model_small.predict(stm.add_constant(df_ml[\"X1\"]))\n",
    "sts.jarque_bera(sts.norm.ppf(sts.t.cdf(u_hat_3, df=ml_t_model_small.params[2], scale=ml_t_model_small.params[3])))"
   ]
  }
 ],
 "metadata": {
  "interpreter": {
   "hash": "1c7434731747d88815ea98a4470429bf1ebbf9287f8433fda1e0ecccc300fe0c"
  },
  "kernelspec": {
   "display_name": "Python 3.8.3 ('base')",
   "language": "python",
   "name": "python3"
  },
  "language_info": {
   "codemirror_mode": {
    "name": "ipython",
    "version": 3
   },
   "file_extension": ".py",
   "mimetype": "text/x-python",
   "name": "python",
   "nbconvert_exporter": "python",
   "pygments_lexer": "ipython3",
   "version": "3.8.3"
  },
  "orig_nbformat": 4
 },
 "nbformat": 4,
 "nbformat_minor": 2
}
